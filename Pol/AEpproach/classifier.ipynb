{
 "cells": [
  {
   "cell_type": "markdown",
   "metadata": {},
   "source": [
    "# Create classifier with reconstructed licit and illicit nodes"
   ]
  },
  {
   "cell_type": "code",
   "execution_count": 94,
   "metadata": {},
   "outputs": [],
   "source": [
    "from src.modelNoPCA import Autoencoder\n",
    "from src.data import Data\n",
    "\n",
    "from sklearn.ensemble import RandomForestClassifier\n",
    "from sklearn.model_selection import train_test_split\n",
    "from sklearn.metrics import confusion_matrix, classification_report\n",
    "\n",
    "import torch\n",
    "import pandas as pd"
   ]
  },
  {
   "cell_type": "markdown",
   "metadata": {},
   "source": [
    "### Retrieve the used data for the Autoencoder training and remove it from the data to train the classifier. "
   ]
  },
  {
   "cell_type": "code",
   "execution_count": 95,
   "metadata": {},
   "outputs": [
    {
     "data": {
      "text/html": [
       "<div>\n",
       "<style scoped>\n",
       "    .dataframe tbody tr th:only-of-type {\n",
       "        vertical-align: middle;\n",
       "    }\n",
       "\n",
       "    .dataframe tbody tr th {\n",
       "        vertical-align: top;\n",
       "    }\n",
       "\n",
       "    .dataframe thead th {\n",
       "        text-align: right;\n",
       "    }\n",
       "</style>\n",
       "<table border=\"1\" class=\"dataframe\">\n",
       "  <thead>\n",
       "    <tr style=\"text-align: right;\">\n",
       "      <th></th>\n",
       "      <th>txId</th>\n",
       "      <th>class</th>\n",
       "      <th>timestep</th>\n",
       "      <th>f0</th>\n",
       "      <th>f1</th>\n",
       "      <th>f2</th>\n",
       "      <th>f3</th>\n",
       "      <th>f4</th>\n",
       "      <th>f5</th>\n",
       "      <th>f6</th>\n",
       "      <th>...</th>\n",
       "      <th>f155</th>\n",
       "      <th>f156</th>\n",
       "      <th>f157</th>\n",
       "      <th>f158</th>\n",
       "      <th>f159</th>\n",
       "      <th>f160</th>\n",
       "      <th>f161</th>\n",
       "      <th>f162</th>\n",
       "      <th>f163</th>\n",
       "      <th>f164</th>\n",
       "    </tr>\n",
       "  </thead>\n",
       "  <tbody>\n",
       "    <tr>\n",
       "      <th>9</th>\n",
       "      <td>232051089</td>\n",
       "      <td>0</td>\n",
       "      <td>1</td>\n",
       "      <td>-0.172914</td>\n",
       "      <td>-0.184668</td>\n",
       "      <td>-1.201369</td>\n",
       "      <td>-0.046932</td>\n",
       "      <td>-0.024025</td>\n",
       "      <td>-0.029140</td>\n",
       "      <td>-0.061584</td>\n",
       "      <td>...</td>\n",
       "      <td>-0.560956</td>\n",
       "      <td>-0.584179</td>\n",
       "      <td>1.039938</td>\n",
       "      <td>0.851388</td>\n",
       "      <td>0.018279</td>\n",
       "      <td>-0.068266</td>\n",
       "      <td>-0.093204</td>\n",
       "      <td>-0.068808</td>\n",
       "      <td>-0.120613</td>\n",
       "      <td>-0.119792</td>\n",
       "    </tr>\n",
       "    <tr>\n",
       "      <th>55</th>\n",
       "      <td>230674241</td>\n",
       "      <td>0</td>\n",
       "      <td>1</td>\n",
       "      <td>-0.007920</td>\n",
       "      <td>-0.184668</td>\n",
       "      <td>-1.201369</td>\n",
       "      <td>0.028105</td>\n",
       "      <td>-0.063725</td>\n",
       "      <td>0.054722</td>\n",
       "      <td>-0.061584</td>\n",
       "      <td>...</td>\n",
       "      <td>-0.577099</td>\n",
       "      <td>-0.613614</td>\n",
       "      <td>0.241128</td>\n",
       "      <td>0.241406</td>\n",
       "      <td>0.018279</td>\n",
       "      <td>-0.087490</td>\n",
       "      <td>-0.131155</td>\n",
       "      <td>-0.097524</td>\n",
       "      <td>-0.120613</td>\n",
       "      <td>-0.119792</td>\n",
       "    </tr>\n",
       "    <tr>\n",
       "      <th>60</th>\n",
       "      <td>231995264</td>\n",
       "      <td>0</td>\n",
       "      <td>1</td>\n",
       "      <td>-0.172870</td>\n",
       "      <td>-0.158783</td>\n",
       "      <td>-1.201369</td>\n",
       "      <td>-0.121970</td>\n",
       "      <td>-0.043875</td>\n",
       "      <td>-0.113002</td>\n",
       "      <td>-0.061584</td>\n",
       "      <td>...</td>\n",
       "      <td>-0.532262</td>\n",
       "      <td>-0.550539</td>\n",
       "      <td>-0.979074</td>\n",
       "      <td>-0.978556</td>\n",
       "      <td>0.018279</td>\n",
       "      <td>-0.029817</td>\n",
       "      <td>0.008288</td>\n",
       "      <td>0.031697</td>\n",
       "      <td>-1.760926</td>\n",
       "      <td>-1.760984</td>\n",
       "    </tr>\n",
       "    <tr>\n",
       "      <th>77</th>\n",
       "      <td>230681119</td>\n",
       "      <td>0</td>\n",
       "      <td>1</td>\n",
       "      <td>-0.109788</td>\n",
       "      <td>-0.184668</td>\n",
       "      <td>-1.201369</td>\n",
       "      <td>-0.046932</td>\n",
       "      <td>-0.043875</td>\n",
       "      <td>-0.029140</td>\n",
       "      <td>-0.061584</td>\n",
       "      <td>...</td>\n",
       "      <td>-0.577099</td>\n",
       "      <td>-0.600999</td>\n",
       "      <td>0.241128</td>\n",
       "      <td>0.241406</td>\n",
       "      <td>0.018279</td>\n",
       "      <td>-0.087490</td>\n",
       "      <td>-0.131155</td>\n",
       "      <td>-0.097524</td>\n",
       "      <td>-0.120613</td>\n",
       "      <td>-0.119792</td>\n",
       "    </tr>\n",
       "    <tr>\n",
       "      <th>82</th>\n",
       "      <td>232415197</td>\n",
       "      <td>0</td>\n",
       "      <td>1</td>\n",
       "      <td>-0.168459</td>\n",
       "      <td>-0.184668</td>\n",
       "      <td>-1.201369</td>\n",
       "      <td>0.178180</td>\n",
       "      <td>-0.063725</td>\n",
       "      <td>0.138585</td>\n",
       "      <td>0.242712</td>\n",
       "      <td>...</td>\n",
       "      <td>-0.577099</td>\n",
       "      <td>-0.613614</td>\n",
       "      <td>0.241128</td>\n",
       "      <td>0.241406</td>\n",
       "      <td>0.018279</td>\n",
       "      <td>-0.087490</td>\n",
       "      <td>-0.131155</td>\n",
       "      <td>-0.097524</td>\n",
       "      <td>-0.120613</td>\n",
       "      <td>-0.119792</td>\n",
       "    </tr>\n",
       "  </tbody>\n",
       "</table>\n",
       "<p>5 rows × 168 columns</p>\n",
       "</div>"
      ],
      "text/plain": [
       "         txId  class  timestep        f0        f1        f2        f3  \\\n",
       "9   232051089      0         1 -0.172914 -0.184668 -1.201369 -0.046932   \n",
       "55  230674241      0         1 -0.007920 -0.184668 -1.201369  0.028105   \n",
       "60  231995264      0         1 -0.172870 -0.158783 -1.201369 -0.121970   \n",
       "77  230681119      0         1 -0.109788 -0.184668 -1.201369 -0.046932   \n",
       "82  232415197      0         1 -0.168459 -0.184668 -1.201369  0.178180   \n",
       "\n",
       "          f4        f5        f6  ...      f155      f156      f157      f158  \\\n",
       "9  -0.024025 -0.029140 -0.061584  ... -0.560956 -0.584179  1.039938  0.851388   \n",
       "55 -0.063725  0.054722 -0.061584  ... -0.577099 -0.613614  0.241128  0.241406   \n",
       "60 -0.043875 -0.113002 -0.061584  ... -0.532262 -0.550539 -0.979074 -0.978556   \n",
       "77 -0.043875 -0.029140 -0.061584  ... -0.577099 -0.600999  0.241128  0.241406   \n",
       "82 -0.063725  0.138585  0.242712  ... -0.577099 -0.613614  0.241128  0.241406   \n",
       "\n",
       "        f159      f160      f161      f162      f163      f164  \n",
       "9   0.018279 -0.068266 -0.093204 -0.068808 -0.120613 -0.119792  \n",
       "55  0.018279 -0.087490 -0.131155 -0.097524 -0.120613 -0.119792  \n",
       "60  0.018279 -0.029817  0.008288  0.031697 -1.760926 -1.760984  \n",
       "77  0.018279 -0.087490 -0.131155 -0.097524 -0.120613 -0.119792  \n",
       "82  0.018279 -0.087490 -0.131155 -0.097524 -0.120613 -0.119792  \n",
       "\n",
       "[5 rows x 168 columns]"
      ]
     },
     "execution_count": 95,
     "metadata": {},
     "output_type": "execute_result"
    }
   ],
   "source": [
    "AE_data = pd.read_csv('../../../data/noPCA_AEData2.csv')\n",
    "\n",
    "classesDF  = pd.read_csv('../../../data/elliptic_txs_classes.csv')\n",
    "# Remove all nodes that have unknown class\n",
    "classesDF = classesDF[classesDF['class'] != \"unknown\"]\n",
    "# If class = 2, then map to 0, else map to 1\n",
    "classesDF['class'] = classesDF['class'].map({'2': 0, '1': 1})\n",
    "\n",
    "\n",
    "featuresDF = pd.read_csv('../../../data/elliptic_txs_features.csv')\n",
    "# Change column names --> Column 1 is txId, Column 2 is timestep and the rest are unknown features\n",
    "featuresDF.columns = ['txId', 'timestep'] + ['f' + str(i) for i in range(165)]\n",
    "# Remove all edges that do not appear in classesDF\n",
    "featuresDF = featuresDF[featuresDF['txId'].isin(classesDF['txId'])]\n",
    "# Append the class to the featuresDF based on txID\n",
    "featuresDF = featuresDF.merge(classesDF, on='txId')\n",
    "\n",
    "# Move features 'class' to first column\n",
    "cols = list(featuresDF.columns)\n",
    "cols = cols[:1] + [cols[-1]] + cols[1:-1]\n",
    "featuresDF = featuresDF[cols]\n",
    "\n",
    "# Take featuresDF and remove from it all rows that appear in AE_data\n",
    "featuresDF = featuresDF[~featuresDF['txId'].isin(AE_data['txId'])]\n",
    "\n",
    "featuresDF.head(5)"
   ]
  },
  {
   "cell_type": "markdown",
   "metadata": {},
   "source": [
    "### Convert to vectors in order to fit the Classifier"
   ]
  },
  {
   "cell_type": "code",
   "execution_count": 96,
   "metadata": {},
   "outputs": [],
   "source": [
    "vectors = featuresDF.iloc[:, 2:].values\n",
    "labels = featuresDF.iloc[:, 1].values\n",
    "\n",
    "X_train, X_test, y_train, y_test = train_test_split(vectors, labels, test_size=0.2, random_state=42)"
   ]
  },
  {
   "cell_type": "markdown",
   "metadata": {},
   "source": [
    "### Create the classifier and train it"
   ]
  },
  {
   "cell_type": "code",
   "execution_count": 97,
   "metadata": {},
   "outputs": [
    {
     "data": {
      "text/html": [
       "<style>#sk-container-id-7 {color: black;background-color: white;}#sk-container-id-7 pre{padding: 0;}#sk-container-id-7 div.sk-toggleable {background-color: white;}#sk-container-id-7 label.sk-toggleable__label {cursor: pointer;display: block;width: 100%;margin-bottom: 0;padding: 0.3em;box-sizing: border-box;text-align: center;}#sk-container-id-7 label.sk-toggleable__label-arrow:before {content: \"▸\";float: left;margin-right: 0.25em;color: #696969;}#sk-container-id-7 label.sk-toggleable__label-arrow:hover:before {color: black;}#sk-container-id-7 div.sk-estimator:hover label.sk-toggleable__label-arrow:before {color: black;}#sk-container-id-7 div.sk-toggleable__content {max-height: 0;max-width: 0;overflow: hidden;text-align: left;background-color: #f0f8ff;}#sk-container-id-7 div.sk-toggleable__content pre {margin: 0.2em;color: black;border-radius: 0.25em;background-color: #f0f8ff;}#sk-container-id-7 input.sk-toggleable__control:checked~div.sk-toggleable__content {max-height: 200px;max-width: 100%;overflow: auto;}#sk-container-id-7 input.sk-toggleable__control:checked~label.sk-toggleable__label-arrow:before {content: \"▾\";}#sk-container-id-7 div.sk-estimator input.sk-toggleable__control:checked~label.sk-toggleable__label {background-color: #d4ebff;}#sk-container-id-7 div.sk-label input.sk-toggleable__control:checked~label.sk-toggleable__label {background-color: #d4ebff;}#sk-container-id-7 input.sk-hidden--visually {border: 0;clip: rect(1px 1px 1px 1px);clip: rect(1px, 1px, 1px, 1px);height: 1px;margin: -1px;overflow: hidden;padding: 0;position: absolute;width: 1px;}#sk-container-id-7 div.sk-estimator {font-family: monospace;background-color: #f0f8ff;border: 1px dotted black;border-radius: 0.25em;box-sizing: border-box;margin-bottom: 0.5em;}#sk-container-id-7 div.sk-estimator:hover {background-color: #d4ebff;}#sk-container-id-7 div.sk-parallel-item::after {content: \"\";width: 100%;border-bottom: 1px solid gray;flex-grow: 1;}#sk-container-id-7 div.sk-label:hover label.sk-toggleable__label {background-color: #d4ebff;}#sk-container-id-7 div.sk-serial::before {content: \"\";position: absolute;border-left: 1px solid gray;box-sizing: border-box;top: 0;bottom: 0;left: 50%;z-index: 0;}#sk-container-id-7 div.sk-serial {display: flex;flex-direction: column;align-items: center;background-color: white;padding-right: 0.2em;padding-left: 0.2em;position: relative;}#sk-container-id-7 div.sk-item {position: relative;z-index: 1;}#sk-container-id-7 div.sk-parallel {display: flex;align-items: stretch;justify-content: center;background-color: white;position: relative;}#sk-container-id-7 div.sk-item::before, #sk-container-id-7 div.sk-parallel-item::before {content: \"\";position: absolute;border-left: 1px solid gray;box-sizing: border-box;top: 0;bottom: 0;left: 50%;z-index: -1;}#sk-container-id-7 div.sk-parallel-item {display: flex;flex-direction: column;z-index: 1;position: relative;background-color: white;}#sk-container-id-7 div.sk-parallel-item:first-child::after {align-self: flex-end;width: 50%;}#sk-container-id-7 div.sk-parallel-item:last-child::after {align-self: flex-start;width: 50%;}#sk-container-id-7 div.sk-parallel-item:only-child::after {width: 0;}#sk-container-id-7 div.sk-dashed-wrapped {border: 1px dashed gray;margin: 0 0.4em 0.5em 0.4em;box-sizing: border-box;padding-bottom: 0.4em;background-color: white;}#sk-container-id-7 div.sk-label label {font-family: monospace;font-weight: bold;display: inline-block;line-height: 1.2em;}#sk-container-id-7 div.sk-label-container {text-align: center;}#sk-container-id-7 div.sk-container {/* jupyter's `normalize.less` sets `[hidden] { display: none; }` but bootstrap.min.css set `[hidden] { display: none !important; }` so we also need the `!important` here to be able to override the default hidden behavior on the sphinx rendered scikit-learn.org. See: https://github.com/scikit-learn/scikit-learn/issues/21755 */display: inline-block !important;position: relative;}#sk-container-id-7 div.sk-text-repr-fallback {display: none;}</style><div id=\"sk-container-id-7\" class=\"sk-top-container\"><div class=\"sk-text-repr-fallback\"><pre>RandomForestClassifier(random_state=42)</pre><b>In a Jupyter environment, please rerun this cell to show the HTML representation or trust the notebook. <br />On GitHub, the HTML representation is unable to render, please try loading this page with nbviewer.org.</b></div><div class=\"sk-container\" hidden><div class=\"sk-item\"><div class=\"sk-estimator sk-toggleable\"><input class=\"sk-toggleable__control sk-hidden--visually\" id=\"sk-estimator-id-7\" type=\"checkbox\" checked><label for=\"sk-estimator-id-7\" class=\"sk-toggleable__label sk-toggleable__label-arrow\">RandomForestClassifier</label><div class=\"sk-toggleable__content\"><pre>RandomForestClassifier(random_state=42)</pre></div></div></div></div></div>"
      ],
      "text/plain": [
       "RandomForestClassifier(random_state=42)"
      ]
     },
     "execution_count": 97,
     "metadata": {},
     "output_type": "execute_result"
    }
   ],
   "source": [
    "clf = RandomForestClassifier(n_estimators=100, random_state=42)\n",
    "clf.fit(X_train, y_train)"
   ]
  },
  {
   "cell_type": "code",
   "execution_count": 98,
   "metadata": {},
   "outputs": [
    {
     "name": "stdout",
     "output_type": "stream",
     "text": [
      "              precision    recall  f1-score   support\n",
      "\n",
      "           0       0.96      0.99      0.97       919\n",
      "           1       0.99      0.96      0.97       899\n",
      "\n",
      "    accuracy                           0.97      1818\n",
      "   macro avg       0.97      0.97      0.97      1818\n",
      "weighted avg       0.97      0.97      0.97      1818\n",
      "\n"
     ]
    }
   ],
   "source": [
    "y_pred = clf.predict(X_test)\n",
    "\n",
    "print(classification_report(y_test, y_pred))"
   ]
  },
  {
   "cell_type": "code",
   "execution_count": 99,
   "metadata": {},
   "outputs": [
    {
     "data": {
      "image/png": "[encoded data removed]",
      "text/plain": [
       "<Figure size 480x480 with 2 Axes>"
      ]
     },
     "metadata": {},
     "output_type": "display_data"
    }
   ],
   "source": [
    "import matplotlib.pyplot as plt\n",
    "\n",
    "# Plot confusion matrix and show number of instances\n",
    "conf_matrix = confusion_matrix(y_test, y_pred)\n",
    "plt.matshow(conf_matrix, cmap='Blues')\n",
    "plt.colorbar()\n",
    "for i in range(2):\n",
    "    for j in range(2):\n",
    "        plt.text(i, j, str(conf_matrix[j, i]), ha='center', va='center')\n",
    "plt.title('Confusion Matrix')\n",
    "plt.xlabel('Predicted')\n",
    "plt.ylabel('True')\n",
    "plt.show()"
   ]
  },
  {
   "cell_type": "markdown",
   "metadata": {},
   "source": [
    "# Now with the AutoEncoder"
   ]
  },
  {
   "cell_type": "code",
   "execution_count": 100,
   "metadata": {},
   "outputs": [],
   "source": [
    "from sklearn.preprocessing import StandardScaler"
   ]
  },
  {
   "cell_type": "code",
   "execution_count": 101,
   "metadata": {},
   "outputs": [
    {
     "data": {
      "text/html": [
       "<div>\n",
       "<style scoped>\n",
       "    .dataframe tbody tr th:only-of-type {\n",
       "        vertical-align: middle;\n",
       "    }\n",
       "\n",
       "    .dataframe tbody tr th {\n",
       "        vertical-align: top;\n",
       "    }\n",
       "\n",
       "    .dataframe thead th {\n",
       "        text-align: right;\n",
       "    }\n",
       "</style>\n",
       "<table border=\"1\" class=\"dataframe\">\n",
       "  <thead>\n",
       "    <tr style=\"text-align: right;\">\n",
       "      <th></th>\n",
       "      <th>txId</th>\n",
       "      <th>class</th>\n",
       "      <th>timestep</th>\n",
       "      <th>f0</th>\n",
       "      <th>f1</th>\n",
       "      <th>f2</th>\n",
       "      <th>f3</th>\n",
       "      <th>f4</th>\n",
       "      <th>f5</th>\n",
       "      <th>f6</th>\n",
       "      <th>...</th>\n",
       "      <th>f155</th>\n",
       "      <th>f156</th>\n",
       "      <th>f157</th>\n",
       "      <th>f158</th>\n",
       "      <th>f159</th>\n",
       "      <th>f160</th>\n",
       "      <th>f161</th>\n",
       "      <th>f162</th>\n",
       "      <th>f163</th>\n",
       "      <th>f164</th>\n",
       "    </tr>\n",
       "  </thead>\n",
       "  <tbody>\n",
       "    <tr>\n",
       "      <th>9</th>\n",
       "      <td>232051089</td>\n",
       "      <td>0</td>\n",
       "      <td>-1.759135</td>\n",
       "      <td>-0.155663</td>\n",
       "      <td>-0.171871</td>\n",
       "      <td>-1.309096</td>\n",
       "      <td>-0.095750</td>\n",
       "      <td>-0.016985</td>\n",
       "      <td>-0.091519</td>\n",
       "      <td>-0.052369</td>\n",
       "      <td>...</td>\n",
       "      <td>-0.429171</td>\n",
       "      <td>-0.593319</td>\n",
       "      <td>1.163994</td>\n",
       "      <td>0.940402</td>\n",
       "      <td>0.19498</td>\n",
       "      <td>-0.075972</td>\n",
       "      <td>-0.100867</td>\n",
       "      <td>-0.053122</td>\n",
       "      <td>-0.028964</td>\n",
       "      <td>-0.029539</td>\n",
       "    </tr>\n",
       "    <tr>\n",
       "      <th>55</th>\n",
       "      <td>230674241</td>\n",
       "      <td>0</td>\n",
       "      <td>-1.759135</td>\n",
       "      <td>0.215348</td>\n",
       "      <td>-0.171871</td>\n",
       "      <td>-1.309096</td>\n",
       "      <td>-0.050505</td>\n",
       "      <td>-0.046921</td>\n",
       "      <td>-0.042667</td>\n",
       "      <td>-0.052369</td>\n",
       "      <td>...</td>\n",
       "      <td>-0.449687</td>\n",
       "      <td>-0.627229</td>\n",
       "      <td>0.218592</td>\n",
       "      <td>0.218461</td>\n",
       "      <td>0.19498</td>\n",
       "      <td>-0.106789</td>\n",
       "      <td>-0.156699</td>\n",
       "      <td>-0.100073</td>\n",
       "      <td>-0.028964</td>\n",
       "      <td>-0.029539</td>\n",
       "    </tr>\n",
       "    <tr>\n",
       "      <th>60</th>\n",
       "      <td>231995264</td>\n",
       "      <td>0</td>\n",
       "      <td>-1.759135</td>\n",
       "      <td>-0.155565</td>\n",
       "      <td>-0.155900</td>\n",
       "      <td>-1.309096</td>\n",
       "      <td>-0.140994</td>\n",
       "      <td>-0.031953</td>\n",
       "      <td>-0.140371</td>\n",
       "      <td>-0.052369</td>\n",
       "      <td>...</td>\n",
       "      <td>-0.392705</td>\n",
       "      <td>-0.554566</td>\n",
       "      <td>-1.225533</td>\n",
       "      <td>-1.225421</td>\n",
       "      <td>0.19498</td>\n",
       "      <td>-0.014337</td>\n",
       "      <td>0.048441</td>\n",
       "      <td>0.111204</td>\n",
       "      <td>-1.926402</td>\n",
       "      <td>-1.928531</td>\n",
       "    </tr>\n",
       "    <tr>\n",
       "      <th>77</th>\n",
       "      <td>230681119</td>\n",
       "      <td>0</td>\n",
       "      <td>-1.759135</td>\n",
       "      <td>-0.013716</td>\n",
       "      <td>-0.171871</td>\n",
       "      <td>-1.309096</td>\n",
       "      <td>-0.095750</td>\n",
       "      <td>-0.031953</td>\n",
       "      <td>-0.091519</td>\n",
       "      <td>-0.052369</td>\n",
       "      <td>...</td>\n",
       "      <td>-0.449687</td>\n",
       "      <td>-0.612696</td>\n",
       "      <td>0.218592</td>\n",
       "      <td>0.218461</td>\n",
       "      <td>0.19498</td>\n",
       "      <td>-0.106789</td>\n",
       "      <td>-0.156699</td>\n",
       "      <td>-0.100073</td>\n",
       "      <td>-0.028964</td>\n",
       "      <td>-0.029539</td>\n",
       "    </tr>\n",
       "    <tr>\n",
       "      <th>82</th>\n",
       "      <td>232415197</td>\n",
       "      <td>0</td>\n",
       "      <td>-1.759135</td>\n",
       "      <td>-0.145645</td>\n",
       "      <td>-0.171871</td>\n",
       "      <td>-1.309096</td>\n",
       "      <td>0.039983</td>\n",
       "      <td>-0.046921</td>\n",
       "      <td>0.006186</td>\n",
       "      <td>0.521859</td>\n",
       "      <td>...</td>\n",
       "      <td>-0.449687</td>\n",
       "      <td>-0.627229</td>\n",
       "      <td>0.218592</td>\n",
       "      <td>0.218461</td>\n",
       "      <td>0.19498</td>\n",
       "      <td>-0.106789</td>\n",
       "      <td>-0.156699</td>\n",
       "      <td>-0.100073</td>\n",
       "      <td>-0.028964</td>\n",
       "      <td>-0.029539</td>\n",
       "    </tr>\n",
       "  </tbody>\n",
       "</table>\n",
       "<p>5 rows × 168 columns</p>\n",
       "</div>"
      ],
      "text/plain": [
       "         txId  class  timestep        f0        f1        f2        f3  \\\n",
       "9   232051089      0 -1.759135 -0.155663 -0.171871 -1.309096 -0.095750   \n",
       "55  230674241      0 -1.759135  0.215348 -0.171871 -1.309096 -0.050505   \n",
       "60  231995264      0 -1.759135 -0.155565 -0.155900 -1.309096 -0.140994   \n",
       "77  230681119      0 -1.759135 -0.013716 -0.171871 -1.309096 -0.095750   \n",
       "82  232415197      0 -1.759135 -0.145645 -0.171871 -1.309096  0.039983   \n",
       "\n",
       "          f4        f5        f6  ...      f155      f156      f157      f158  \\\n",
       "9  -0.016985 -0.091519 -0.052369  ... -0.429171 -0.593319  1.163994  0.940402   \n",
       "55 -0.046921 -0.042667 -0.052369  ... -0.449687 -0.627229  0.218592  0.218461   \n",
       "60 -0.031953 -0.140371 -0.052369  ... -0.392705 -0.554566 -1.225533 -1.225421   \n",
       "77 -0.031953 -0.091519 -0.052369  ... -0.449687 -0.612696  0.218592  0.218461   \n",
       "82 -0.046921  0.006186  0.521859  ... -0.449687 -0.627229  0.218592  0.218461   \n",
       "\n",
       "       f159      f160      f161      f162      f163      f164  \n",
       "9   0.19498 -0.075972 -0.100867 -0.053122 -0.028964 -0.029539  \n",
       "55  0.19498 -0.106789 -0.156699 -0.100073 -0.028964 -0.029539  \n",
       "60  0.19498 -0.014337  0.048441  0.111204 -1.926402 -1.928531  \n",
       "77  0.19498 -0.106789 -0.156699 -0.100073 -0.028964 -0.029539  \n",
       "82  0.19498 -0.106789 -0.156699 -0.100073 -0.028964 -0.029539  \n",
       "\n",
       "[5 rows x 168 columns]"
      ]
     },
     "execution_count": 101,
     "metadata": {},
     "output_type": "execute_result"
    }
   ],
   "source": [
    "# Normalize the data\n",
    "scaler = StandardScaler()\n",
    "scaler.fit(featuresDF.iloc[:, 2:])\n",
    "featuresDF.iloc[:, 2:] = scaler.transform(featuresDF.iloc[:, 2:])\n",
    "\n",
    "featuresDF.head(5)"
   ]
  },
  {
   "cell_type": "code",
   "execution_count": 102,
   "metadata": {},
   "outputs": [],
   "source": [
    "# vectors = featuresDF.iloc[:, 2:]\n",
    "labels = featuresDF.iloc[:, 1].values\n",
    "\n",
    "X_train, X_test, y_train, y_test = train_test_split(featuresDF, labels, test_size=0.2, random_state=42)"
   ]
  },
  {
   "cell_type": "code",
   "execution_count": 103,
   "metadata": {},
   "outputs": [],
   "source": [
    "train_dataset = Data(X_train, y_train)\n",
    "y_train = train_dataset.labels\n",
    "\n",
    "test_dataset = Data(X_test, y_test)\n",
    "y_test = test_dataset.labels"
   ]
  },
  {
   "cell_type": "code",
   "execution_count": 104,
   "metadata": {},
   "outputs": [],
   "source": [
    "model = Autoencoder()\n",
    "model.load_state_dict(torch.load('models/NoPCA_Autoencoder_secondRUN.pth'))\n",
    "model.to('cuda')\n",
    "\n",
    "model.eval()\n",
    "with torch.no_grad():\n",
    "    # Encode and decode the data\n",
    "    reconstructed_train = model(train_dataset.vectors.to('cuda').unsqueeze(1)).cpu().numpy()\n",
    "    reconstructed_test =  model(test_dataset.vectors.to('cuda').unsqueeze(1)).cpu().numpy()"
   ]
  },
  {
   "cell_type": "markdown",
   "metadata": {},
   "source": [
    "# Train the classifier with reconstruction"
   ]
  },
  {
   "cell_type": "code",
   "execution_count": 109,
   "metadata": {},
   "outputs": [
    {
     "data": {
      "text/html": [
       "<style>#sk-container-id-9 {color: black;background-color: white;}#sk-container-id-9 pre{padding: 0;}#sk-container-id-9 div.sk-toggleable {background-color: white;}#sk-container-id-9 label.sk-toggleable__label {cursor: pointer;display: block;width: 100%;margin-bottom: 0;padding: 0.3em;box-sizing: border-box;text-align: center;}#sk-container-id-9 label.sk-toggleable__label-arrow:before {content: \"▸\";float: left;margin-right: 0.25em;color: #696969;}#sk-container-id-9 label.sk-toggleable__label-arrow:hover:before {color: black;}#sk-container-id-9 div.sk-estimator:hover label.sk-toggleable__label-arrow:before {color: black;}#sk-container-id-9 div.sk-toggleable__content {max-height: 0;max-width: 0;overflow: hidden;text-align: left;background-color: #f0f8ff;}#sk-container-id-9 div.sk-toggleable__content pre {margin: 0.2em;color: black;border-radius: 0.25em;background-color: #f0f8ff;}#sk-container-id-9 input.sk-toggleable__control:checked~div.sk-toggleable__content {max-height: 200px;max-width: 100%;overflow: auto;}#sk-container-id-9 input.sk-toggleable__control:checked~label.sk-toggleable__label-arrow:before {content: \"▾\";}#sk-container-id-9 div.sk-estimator input.sk-toggleable__control:checked~label.sk-toggleable__label {background-color: #d4ebff;}#sk-container-id-9 div.sk-label input.sk-toggleable__control:checked~label.sk-toggleable__label {background-color: #d4ebff;}#sk-container-id-9 input.sk-hidden--visually {border: 0;clip: rect(1px 1px 1px 1px);clip: rect(1px, 1px, 1px, 1px);height: 1px;margin: -1px;overflow: hidden;padding: 0;position: absolute;width: 1px;}#sk-container-id-9 div.sk-estimator {font-family: monospace;background-color: #f0f8ff;border: 1px dotted black;border-radius: 0.25em;box-sizing: border-box;margin-bottom: 0.5em;}#sk-container-id-9 div.sk-estimator:hover {background-color: #d4ebff;}#sk-container-id-9 div.sk-parallel-item::after {content: \"\";width: 100%;border-bottom: 1px solid gray;flex-grow: 1;}#sk-container-id-9 div.sk-label:hover label.sk-toggleable__label {background-color: #d4ebff;}#sk-container-id-9 div.sk-serial::before {content: \"\";position: absolute;border-left: 1px solid gray;box-sizing: border-box;top: 0;bottom: 0;left: 50%;z-index: 0;}#sk-container-id-9 div.sk-serial {display: flex;flex-direction: column;align-items: center;background-color: white;padding-right: 0.2em;padding-left: 0.2em;position: relative;}#sk-container-id-9 div.sk-item {position: relative;z-index: 1;}#sk-container-id-9 div.sk-parallel {display: flex;align-items: stretch;justify-content: center;background-color: white;position: relative;}#sk-container-id-9 div.sk-item::before, #sk-container-id-9 div.sk-parallel-item::before {content: \"\";position: absolute;border-left: 1px solid gray;box-sizing: border-box;top: 0;bottom: 0;left: 50%;z-index: -1;}#sk-container-id-9 div.sk-parallel-item {display: flex;flex-direction: column;z-index: 1;position: relative;background-color: white;}#sk-container-id-9 div.sk-parallel-item:first-child::after {align-self: flex-end;width: 50%;}#sk-container-id-9 div.sk-parallel-item:last-child::after {align-self: flex-start;width: 50%;}#sk-container-id-9 div.sk-parallel-item:only-child::after {width: 0;}#sk-container-id-9 div.sk-dashed-wrapped {border: 1px dashed gray;margin: 0 0.4em 0.5em 0.4em;box-sizing: border-box;padding-bottom: 0.4em;background-color: white;}#sk-container-id-9 div.sk-label label {font-family: monospace;font-weight: bold;display: inline-block;line-height: 1.2em;}#sk-container-id-9 div.sk-label-container {text-align: center;}#sk-container-id-9 div.sk-container {/* jupyter's `normalize.less` sets `[hidden] { display: none; }` but bootstrap.min.css set `[hidden] { display: none !important; }` so we also need the `!important` here to be able to override the default hidden behavior on the sphinx rendered scikit-learn.org. See: https://github.com/scikit-learn/scikit-learn/issues/21755 */display: inline-block !important;position: relative;}#sk-container-id-9 div.sk-text-repr-fallback {display: none;}</style><div id=\"sk-container-id-9\" class=\"sk-top-container\"><div class=\"sk-text-repr-fallback\"><pre>RandomForestClassifier(n_estimators=200, random_state=42)</pre><b>In a Jupyter environment, please rerun this cell to show the HTML representation or trust the notebook. <br />On GitHub, the HTML representation is unable to render, please try loading this page with nbviewer.org.</b></div><div class=\"sk-container\" hidden><div class=\"sk-item\"><div class=\"sk-estimator sk-toggleable\"><input class=\"sk-toggleable__control sk-hidden--visually\" id=\"sk-estimator-id-9\" type=\"checkbox\" checked><label for=\"sk-estimator-id-9\" class=\"sk-toggleable__label sk-toggleable__label-arrow\">RandomForestClassifier</label><div class=\"sk-toggleable__content\"><pre>RandomForestClassifier(n_estimators=200, random_state=42)</pre></div></div></div></div></div>"
      ],
      "text/plain": [
       "RandomForestClassifier(n_estimators=200, random_state=42)"
      ]
     },
     "execution_count": 109,
     "metadata": {},
     "output_type": "execute_result"
    }
   ],
   "source": [
    "clf = RandomForestClassifier(n_estimators=200, random_state=42)\n",
    "clf.fit(reconstructed_train.squeeze(1), y_train)"
   ]
  },
  {
   "cell_type": "code",
   "execution_count": 106,
   "metadata": {},
   "outputs": [
    {
     "data": {
      "text/plain": [
       "(1818,)"
      ]
     },
     "execution_count": 106,
     "metadata": {},
     "output_type": "execute_result"
    }
   ],
   "source": [
    "reconstructed_test.shape\n",
    "\n",
    "y_test.shape"
   ]
  },
  {
   "cell_type": "code",
   "execution_count": 107,
   "metadata": {},
   "outputs": [
    {
     "name": "stdout",
     "output_type": "stream",
     "text": [
      "              precision    recall  f1-score   support\n",
      "\n",
      "           0       0.93      0.98      0.95       919\n",
      "           1       0.98      0.92      0.95       899\n",
      "\n",
      "    accuracy                           0.95      1818\n",
      "   macro avg       0.95      0.95      0.95      1818\n",
      "weighted avg       0.95      0.95      0.95      1818\n",
      "\n"
     ]
    }
   ],
   "source": [
    "y_pred = clf.predict(reconstructed_test.squeeze(1))\n",
    "\n",
    "print(classification_report(y_test, y_pred))"
   ]
  },
  {
   "cell_type": "code",
   "execution_count": 108,
   "metadata": {},
   "outputs": [
    {
     "data": {
      "image/png": "[encoded data removed]",
      "text/plain": [
       "<Figure size 480x480 with 2 Axes>"
      ]
     },
     "metadata": {},
     "output_type": "display_data"
    }
   ],
   "source": [
    "# Plot confusion matrix and show number of instances\n",
    "conf_matrix = confusion_matrix(y_test, y_pred)\n",
    "plt.matshow(conf_matrix, cmap='Blues')\n",
    "plt.colorbar()\n",
    "for i in range(2):\n",
    "    for j in range(2):\n",
    "        plt.text(i, j, str(conf_matrix[j, i]), ha='center', va='center')\n",
    "plt.title('Confusion Matrix')\n",
    "plt.xlabel('Predicted')\n",
    "plt.ylabel('True')\n",
    "plt.show()"
   ]
  }
 ],
 "metadata": {
  "kernelspec": {
   "display_name": "base",
   "language": "python",
   "name": "python3"
  },
  "language_info": {
   "codemirror_mode": {
    "name": "ipython",
    "version": 3
   },
   "file_extension": ".py",
   "mimetype": "text/x-python",
   "name": "python",
   "nbconvert_exporter": "python",
   "pygments_lexer": "ipython3",
   "version": "3.11.5"
  }
 },
 "nbformat": 4,
 "nbformat_minor": 2
}
