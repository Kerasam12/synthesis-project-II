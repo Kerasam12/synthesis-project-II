{
 "cells": [
  {
   "cell_type": "markdown",
   "metadata": {},
   "source": [
    "# Data Processing Notebook - Elliptic Dataset Analysis"
   ]
  },
  {
   "cell_type": "markdown",
   "metadata": {},
   "source": [
    "> Import all libraries"
   ]
  },
  {
   "cell_type": "code",
   "execution_count": 1,
   "metadata": {},
   "outputs": [],
   "source": [
    "import random\n",
    "\n",
    "import pandas as pd\n",
    "import numpy as np\n",
    "\n",
    "from sklearn.decomposition import PCA\n",
    "\n",
    "import networkx as nx\n",
    "\n",
    "import pickle\n",
    "\n",
    "import matplotlib.pyplot as plt"
   ]
  },
  {
   "cell_type": "markdown",
   "metadata": {},
   "source": [
    "___\n",
    "\n",
    "### First, load the data and remove useless information.\n",
    "\n",
    "> I will be removing all nodes that are classified as `unknown` in all three datasets."
   ]
  },
  {
   "cell_type": "code",
   "execution_count": 2,
   "metadata": {},
   "outputs": [],
   "source": [
    "classesDF  = pd.read_csv('../../data/elliptic_txs_classes.csv')\n",
    "\n",
    "# Remove all nodes that have unknown class\n",
    "classesDF = classesDF[classesDF['class'] != \"unknown\"]\n",
    "\n",
    "# If class = 2, then map to 0, else map to 1\n",
    "classesDF['class'] = classesDF['class'].map({'2': 0, '1': 1})"
   ]
  },
  {
   "cell_type": "code",
   "execution_count": 15,
   "metadata": {},
   "outputs": [
    {
     "name": "stdout",
     "output_type": "stream",
     "text": [
      "Class distribution: \n",
      "       42019 licit transactions \n",
      "       4545 illicit transactions\n"
     ]
    }
   ],
   "source": [
    "classes_dist = (classesDF['class'] == 0).sum(), (classesDF['class'] == 1).sum()\n",
    "\n",
    "print(f'Class distribution: \\n \\\n",
    "      {classes_dist[0]} licit transactions \\n \\\n",
    "      {classes_dist[1]} illicit transactions')"
   ]
  },
  {
   "cell_type": "code",
   "execution_count": 6,
   "metadata": {},
   "outputs": [],
   "source": [
    "edgelistDF = pd.read_csv('../../data/elliptic_txs_edgelist.csv')\n",
    "\n",
    "# Remove all edges that do not appear in classesDF\n",
    "edgelistDF = edgelistDF[edgelistDF['txId1'].isin(classesDF['txId'])]\n",
    "edgelistDF = edgelistDF[edgelistDF['txId2'].isin(classesDF['txId'])]"
   ]
  },
  {
   "cell_type": "code",
   "execution_count": 7,
   "metadata": {},
   "outputs": [],
   "source": [
    "featuresDF = pd.read_csv('../../data/elliptic_txs_features.csv')\n",
    "\n",
    "# Change column names --> Column 1 is txId, Column 2 is timestep and the rest are unknown features\n",
    "featuresDF.columns = ['txId', 'timestep'] + ['f' + str(i) for i in range(165)]\n",
    "\n",
    "# Remove all edges that do not appear in classesDF\n",
    "featuresDF = featuresDF[featuresDF['txId'].isin(classesDF['txId'])]"
   ]
  },
  {
   "cell_type": "markdown",
   "metadata": {},
   "source": [
    "___\n",
    "\n",
    "### First idea: reduce the data dimensions with PCA. \n",
    " \n",
    "> Compute the `Principal Component Analysis` of the `featuresDF` dataframe. This will help reducing the dimensions of the data helping in more efficiency."
   ]
  },
  {
   "cell_type": "markdown",
   "metadata": {},
   "source": [
    "\n",
    "***Editor's Idea:***\n",
    "```\n",
    "Since the dataset does not any specific variable name, they don't represent any feature directly. This way, we can try to summarize all the information in less dimensions thanks to PCA. this way, we will have the same information in less space and without losing any information we had before (we basically didn't have any.)\n",
    "```"
   ]
  },
  {
   "cell_type": "code",
   "execution_count": 8,
   "metadata": {},
   "outputs": [
    {
     "name": "stdout",
     "output_type": "stream",
     "text": [
      "Number of components to explain 99% of variance: 71\n"
     ]
    }
   ],
   "source": [
    "# Compute PCA on the features\n",
    "pca = PCA()\n",
    "pca.fit(featuresDF.iloc[:, 2:]) # Ignore the first column (txId)\n",
    "\n",
    "# Calculate cumulative explained variance ratio\n",
    "cumulative_variance_ratio = np.cumsum(pca.explained_variance_ratio_)\n",
    "\n",
    "# Set a threshold of 95% variance explained\n",
    "n_components_for_95_variance = np.argmax(cumulative_variance_ratio >= 0.99) + 1\n",
    "\n",
    "print(\"Number of components to explain 99% of variance:\", n_components_for_95_variance)"
   ]
  },
  {
   "cell_type": "code",
   "execution_count": 9,
   "metadata": {},
   "outputs": [
    {
     "name": "stdout",
     "output_type": "stream",
     "text": [
      "Explained variance ratio of each component: 0.1447251116657139, 0.06749281533592895, 0.061235685888443386, 0.0573887537030309, 0.042434486833099215, 0.03779401840538326, 0.03515124987161215, 0.03094557795556129, 0.02853078493513596, 0.024306502232863993, 0.021638671097537223, 0.020923091697641363, 0.020093727936086315, 0.019239727244653632, 0.01907775993993298, 0.01816118347524441, 0.01772299023811136, 0.01654881350036026, 0.015921876308726535, 0.015030802553902399, 0.013751416222523573, 0.013482390829813683, 0.01313416084240115, 0.012641196856655313, 0.012346860811642844, 0.010749846933590013, 0.010383005521288494, 0.010006079017252907, 0.009510389253588051, 0.009290518555350385, 0.008874546861043433, 0.00844130462192056, 0.008273014691034905, 0.00784093719275902, 0.00775176520262273, 0.006617437700318141, 0.00628801471353831, 0.005896323976130422, 0.005761313939628485, 0.005476945258483579, 0.005270898174788471, 0.005029828153607849, 0.0050095592691707744, 0.004700045068019144, 0.004572728618067259, 0.004423731948680719, 0.004170380773082573, 0.00402812248574777, 0.003915859777447391, 0.0038378463977542863, 0.00369654784357445, 0.0034980143659914353, 0.0033937841227990703, 0.0031560071499169813, 0.0030141651980476465, 0.0028734519999449874, 0.0027916640683133412, 0.0025653007135483085, 0.002470067196258465, 0.002411000256713608, 0.0021039192921494315, 0.001717070586320307, 0.001674264550013866, 0.001588073699969948, 0.001427141142471043, 0.001218447276599805, 0.0010867995437509412, 0.000998484323942238, 0.0009496605841995098, 0.0008828110806282528, 0.0008212637107308158\n"
     ]
    }
   ],
   "source": [
    "# Fit PCA with the number of components that explain 95% of variance\n",
    "pca = PCA(n_components=n_components_for_95_variance)\n",
    "pca.fit(featuresDF.iloc[:, 2:])  # Assuming first column is not a variable\n",
    "\n",
    "# Transform the data to the new PCA space\n",
    "features_pca = pca.transform(featuresDF.iloc[:, 2:])\n",
    "\n",
    "# If you want to see the explained variance ratio of each component\n",
    "variance_ratios_str = ', '.join(map(str, pca.explained_variance_ratio_))\n",
    "print(\"Explained variance ratio of each component:\", variance_ratios_str)\n",
    "\n",
    "featuresDF.reset_index(drop=True, inplace=True)\n",
    "featuresDF = pd.concat([featuresDF['txId'], featuresDF['timestep'], pd.DataFrame(features_pca)], axis=1) # Add the transformed features to the dataframe"
   ]
  },
  {
   "cell_type": "code",
   "execution_count": 10,
   "metadata": {},
   "outputs": [],
   "source": [
    "# Store PCA weights\n",
    "with open('pca.pkl', 'wb') as f:\n",
    "    pickle.dump(pca, f)"
   ]
  },
  {
   "cell_type": "markdown",
   "metadata": {},
   "source": [
    "___\n",
    "\n",
    "### Now, load the data into a NetworkX directed graph and compute several statistics.\n",
    " \n",
    "> All `txId`s from `classesDF` will be represening nodes and the edges will come from `edgelistDF`. "
   ]
  },
  {
   "cell_type": "markdown",
   "metadata": {},
   "source": [
    "The indegree and outdegree values of each node will be appended as the node property."
   ]
  },
  {
   "cell_type": "code",
   "execution_count": 11,
   "metadata": {},
   "outputs": [],
   "source": [
    "# Initialize a directed graph\n",
    "graph = nx.DiGraph()\n",
    "\n",
    "# Add nodes and edges based on the DataFrames\n",
    "graph.add_nodes_from(classesDF['txId'])\n",
    "graph.add_edges_from(edgelistDF.values)\n",
    "\n",
    "for node in graph.nodes():\n",
    "    graph.nodes[node]['indegree'] = graph.in_degree(node)\n",
    "    graph.nodes[node]['outdegree'] = graph.out_degree(node)"
   ]
  },
  {
   "cell_type": "markdown",
   "metadata": {},
   "source": [
    "Compute generic statistics such as centralities and and clustering coefficients."
   ]
  },
  {
   "cell_type": "code",
   "execution_count": 12,
   "metadata": {},
   "outputs": [],
   "source": [
    "# Set general statistics as node attributes\n",
    "###########################################################\n",
    "# IMPOSSIBLE TO COMPUTE -- VERY BIG NETWORK\n",
    "###########################################################\n",
    "# bc = nx.betweenness_centrality(graph)\n",
    "# nx.set_node_attributes(graph, bc, 'betweenness_centrality')  \n",
    "###########################################################\n",
    "\n",
    "# Compute degree centrality for all nodes\n",
    "degree_centrality = nx.degree_centrality(graph)\n",
    "nx.set_node_attributes(graph, degree_centrality, 'degree_centrality')\n",
    "\n",
    "# Compute clustering coefficient for all nodes\n",
    "clustering_coefficient = nx.clustering(graph)\n",
    "nx.set_node_attributes(graph, clustering_coefficient, 'clustering_coefficient')\n",
    "\n",
    "# Compute closeness centrality for all nodes\n",
    "closeness_centrality = nx.closeness_centrality(graph)\n",
    "nx.set_node_attributes(graph, closeness_centrality, 'closeness_centrality')\n",
    "\n",
    "# Compute eigenvector centrality for all nodes\n",
    "eigenvector_centrality = nx.eigenvector_centrality(graph, max_iter=1000)\n",
    "nx.set_node_attributes(graph, eigenvector_centrality, 'eigenvector_centrality')"
   ]
  },
  {
   "cell_type": "markdown",
   "metadata": {},
   "source": [
    "The dataframe `featuresDF` contains each node's data. This will be included in each of the nodes' properties."
   ]
  },
  {
   "cell_type": "code",
   "execution_count": 13,
   "metadata": {},
   "outputs": [],
   "source": [
    "# Set the properties of each node (from featuresDF)\n",
    "for index, row in featuresDF.iterrows():\n",
    "    node_id = row['txId']  # Assuming 'txId' is the common node identifier\n",
    "    # Drop the 'txId' column and convert the remaining row to a dictionary\n",
    "    node_attributes = row.drop('txId').to_dict()\n",
    "    # Update the node attributes in the graph\n",
    "    graph.nodes[node_id].update(node_attributes)"
   ]
  },
  {
   "cell_type": "code",
   "execution_count": 14,
   "metadata": {},
   "outputs": [
    {
     "name": "stdout",
     "output_type": "stream",
     "text": [
      "{'indegree': 1, 'outdegree': 0, 'degree_centrality': 2.1476279449348196e-05, 'clustering_coefficient': 0, 'closeness_centrality': 2.1476279449348196e-05, 'eigenvector_centrality': 8.078292500012373e-111, 'timestep': 33.0, 0: -3.6106925812678377, 1: -0.3056510864517402, 2: 0.5097263954320468, 3: 0.658540400712386, 4: -1.0570185352621706, 5: -1.1189731583584839, 6: -1.2435497667030904, 7: -0.04481197924601406, 8: -1.3536452545134747, 9: -1.8870492230523686, 10: -0.735117135930657, 11: -0.08169981305203398, 12: -0.18997775008977122, 13: 0.664908035795237, 14: 0.7913307792304212, 15: -0.37540540416492973, 16: 0.1643501351264508, 17: -0.20143676056102386, 18: 0.7944147294469976, 19: 0.8580243138467383, 20: 0.26753195284048326, 21: -0.13489364937163234, 22: 0.00783960776776422, 23: 0.0698180436557573, 24: -0.11090115820447839, 25: 0.16896693130494925, 26: 1.3759684226713869, 27: 0.4085895234444731, 28: 0.6829362330796204, 29: -0.411855574259981, 30: -0.7006450220332776, 31: -0.03270544536502214, 32: 1.3441154887635256, 33: -0.286428681006684, 34: -0.8557706698976841, 35: 0.016680253393877385, 36: -0.3191991841677004, 37: -0.3230375741538575, 38: -0.11994132406906036, 39: 0.5800367278885811, 40: -0.8090669803957619, 41: -0.5193560853526098, 42: -0.38449779446369964, 43: 0.2033933642661102, 44: 0.26730792753862426, 45: -0.15603020965184736, 46: -0.9952417892742292, 47: 0.668709778190826, 48: -1.2704316241615918, 49: 0.7695941666273549, 50: 0.538736886711934, 51: -0.5529464501210283, 52: -0.8027278316915606, 53: 0.9692225899603543, 54: 0.05790955882129288, 55: 0.7609551423351073, 56: -1.133158321328016, 57: 0.13173868525636312, 58: 0.4014692747141321, 59: 0.2862090822724487, 60: -0.07485309935279819, 61: -0.04136894242325526, 62: 0.08393811788002883, 63: 0.0524981856807211, 64: 0.14658350287576077, 65: 0.12896158942186645, 66: -0.0018141946109482378, 67: 0.2839344779642408, 68: -0.06564009356367692, 69: 0.000733155880558589, 70: 0.17390897620180823}\n"
     ]
    }
   ],
   "source": [
    "# Observe random node properties\n",
    "random_node = graph.nodes[random.choice(list(graph.nodes))]\n",
    "print(random_node)"
   ]
  },
  {
   "cell_type": "markdown",
   "metadata": {},
   "source": [
    "____\n",
    "\n",
    "### Some plots and displays to understand better the dataset"
   ]
  },
  {
   "cell_type": "markdown",
   "metadata": {},
   "source": [
    "##### General information about the graph"
   ]
  },
  {
   "cell_type": "code",
   "execution_count": 15,
   "metadata": {},
   "outputs": [
    {
     "name": "stdout",
     "output_type": "stream",
     "text": [
      "The graph has 46564 nodes and 36624 edges.\n",
      "\n",
      "Assortativity value: -0.07547351098636665. \n",
      "This means that the graph is not assortative at all.\n",
      "\n",
      "Graph density: 1.6891745952944943e-05. \n",
      "This means that the graph is not dense at all.\n",
      "\n"
     ]
    }
   ],
   "source": [
    "# Display graph dimension\n",
    "print(f\"The graph has {graph.order()} nodes and {graph.size()} edges.\\n\")\n",
    "\n",
    "# Compute assortativity coefficient\n",
    "assortativity = nx.degree_assortativity_coefficient(graph)\n",
    "print(f'Assortativity value: {assortativity}. \\nThis means that the graph is not assortative at all.\\n')\n",
    "\n",
    "# Compute graph Density\n",
    "density = nx.density(graph)\n",
    "print(f'Graph density: {density}. \\nThis means that the graph is not dense at all.\\n')"
   ]
  },
  {
   "cell_type": "markdown",
   "metadata": {},
   "source": [
    "##### Degree Distribution representation and information."
   ]
  },
  {
   "cell_type": "code",
   "execution_count": 16,
   "metadata": {},
   "outputs": [
    {
     "name": "stdout",
     "output_type": "stream",
     "text": [
      "Maximum degree: 453\n",
      "Minimum degree: 0\n",
      "The average degree of the graph is 1.5730607336139506.\n"
     ]
    },
    {
     "data": {
      "image/png": "[encoded data removed]",
      "text/plain": [
       "<Figure size 2000x600 with 1 Axes>"
      ]
     },
     "metadata": {},
     "output_type": "display_data"
    }
   ],
   "source": [
    "# Compute the degrees of all nodes in the graph\n",
    "degrees = dict(graph.degree())\n",
    "\n",
    "# Find the maximum degree\n",
    "max_degree = max(degrees.values())\n",
    "min_degree = min(degrees.values())\n",
    "print(\"Maximum degree:\", max_degree)\n",
    "print(\"Minimum degree:\", min_degree)\n",
    "\n",
    "# Compute degree distribution as histogram\n",
    "degree_distribution = nx.degree_histogram(graph)\n",
    "average_degree = sum(deg * cnt for deg, cnt in enumerate(degree_distribution)) / graph.number_of_nodes()\n",
    "print(f'The average degree of the graph is {average_degree}.')\n",
    "\n",
    "# Set the threshold for minimum degree\n",
    "threshold = 10\n",
    "\n",
    "# Filter out degrees below the threshold\n",
    "filtered_degree_distribution = [count if degree >= threshold else 0 for degree, count in enumerate(degree_distribution)]\n",
    "\n",
    "# Plotting the histogram\n",
    "plt.figure(figsize=(20, 6))\n",
    "plt.bar(range(len(filtered_degree_distribution)), filtered_degree_distribution, color='b')\n",
    "plt.xlabel('Degree')\n",
    "plt.ylabel('Frequency')\n",
    "plt.title('Degree Distribution (Minimum Degree Threshold = 10)')\n",
    "plt.show()"
   ]
  }
 ],
 "metadata": {
  "kernelspec": {
   "display_name": "base",
   "language": "python",
   "name": "python3"
  },
  "language_info": {
   "codemirror_mode": {
    "name": "ipython",
    "version": 3
   },
   "file_extension": ".py",
   "mimetype": "text/x-python",
   "name": "python",
   "nbconvert_exporter": "python",
   "pygments_lexer": "ipython3",
   "version": "3.11.5"
  }
 },
 "nbformat": 4,
 "nbformat_minor": 2
}
